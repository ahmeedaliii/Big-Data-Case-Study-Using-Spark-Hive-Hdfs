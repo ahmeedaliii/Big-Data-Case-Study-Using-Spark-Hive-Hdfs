{
 "cells": [
  {
   "cell_type": "code",
   "execution_count": 15,
   "id": "20cbd22c-e4c2-404c-b88f-dd79242391c8",
   "metadata": {},
   "outputs": [],
   "source": [
    "# Import necessary libraries\n",
    "from pyspark.sql import SparkSession\n",
    "# Initialize a Spark session\n",
    "spark = SparkSession.builder \\\n",
    "    .appName(\"KPI Queries for Hive Tables\") \\\n",
    "    .enableHiveSupport() \\\n",
    "    .getOrCreate()"
   ]
  },
  {
   "cell_type": "code",
   "execution_count": 16,
   "id": "3f5a19ff-1613-4022-a613-f7e1a9145db2",
   "metadata": {},
   "outputs": [
    {
     "name": "stdout",
     "output_type": "stream",
     "text": [
      "+-------------------+\n",
      "|total_product_views|\n",
      "+-------------------+\n",
      "|                340|\n",
      "+-------------------+\n",
      "\n"
     ]
    }
   ],
   "source": [
    "# 1. Product View Table (emp.product_view)\n",
    "# KPI 1: Total Number of Product Views\n",
    "total_product_views = spark.sql(\"\"\"\n",
    "        SELECT COUNT(*) AS total_product_views\n",
    "        FROM stream.product_view\n",
    "    \"\"\")\n",
    "# Show the results\n",
    "total_product_views.show()\n"
   ]
  },
  {
   "cell_type": "code",
   "execution_count": 4,
   "id": "b85a32c4-5784-4d0d-aaa2-5073c2e5cb42",
   "metadata": {},
   "outputs": [
    {
     "name": "stdout",
     "output_type": "stream",
     "text": [
      "+--------------+------------------+\n",
      "|      category|views_per_category|\n",
      "+--------------+------------------+\n",
      "|      Clothing|                98|\n",
      "|Home & Kitchen|                93|\n",
      "|   Electronics|                78|\n",
      "|         Books|                71|\n",
      "+--------------+------------------+\n",
      "\n"
     ]
    }
   ],
   "source": [
    "# KPI 2: Number of Product Views by Category\n",
    "views_per_category = spark.sql(\"\"\"\n",
    "    SELECT category, COUNT(*) AS views_per_category\n",
    "    FROM stream.product_view\n",
    "    GROUP BY category\n",
    "    ORDER BY views_per_category DESC\n",
    "\"\"\")\n",
    "views_per_category.show()\n"
   ]
  },
  {
   "cell_type": "code",
   "execution_count": 5,
   "id": "11af5062-70f7-4b24-8019-3586dda07386",
   "metadata": {},
   "outputs": [
    {
     "name": "stdout",
     "output_type": "stream",
     "text": [
      "+--------------+----------------+\n",
      "|      category|unique_customers|\n",
      "+--------------+----------------+\n",
      "|      Clothing|              98|\n",
      "|Home & Kitchen|              93|\n",
      "|   Electronics|              78|\n",
      "|         Books|              71|\n",
      "+--------------+----------------+\n",
      "\n"
     ]
    }
   ],
   "source": [
    "# KPI 3: Unique Customers per Category\n",
    "unique_customers_per_category = spark.sql(\"\"\"\n",
    "    SELECT category, COUNT(DISTINCT customerId) AS unique_customers\n",
    "    FROM stream.product_view\n",
    "    GROUP BY category\n",
    "    ORDER BY unique_customers DESC\n",
    "\"\"\")\n",
    "unique_customers_per_category.show()"
   ]
  },
  {
   "cell_type": "code",
   "execution_count": 7,
   "id": "377b17cc-b0cc-46d2-9578-275ea89b9aa6",
   "metadata": {},
   "outputs": [
    {
     "name": "stdout",
     "output_type": "stream",
     "text": [
      "+-----------------+\n",
      "|total_add_to_cart|\n",
      "+-----------------+\n",
      "|              293|\n",
      "+-----------------+\n",
      "\n"
     ]
    }
   ],
   "source": [
    "# 2. Add to Cart Table (emp.add_to_cart)\n",
    "# KPI 1: Total Number of Add to Cart Actions\n",
    "total_add_to_cart = spark.sql(\"\"\"\n",
    "    SELECT COUNT(*) AS total_add_to_cart\n",
    "    FROM stream.add_to_cart\n",
    "\"\"\")\n",
    "total_add_to_cart.show()"
   ]
  },
  {
   "cell_type": "code",
   "execution_count": 6,
   "id": "97f98e7d-1591-4c19-822b-1a8737672139",
   "metadata": {},
   "outputs": [
    {
     "name": "stdout",
     "output_type": "stream",
     "text": [
      "+---------+-----------------------+\n",
      "|productId|add_to_cart_per_product|\n",
      "+---------+-----------------------+\n",
      "|     2244|                      2|\n",
      "|     8334|                      2|\n",
      "|     5766|                      2|\n",
      "|     9732|                      2|\n",
      "|     8089|                      1|\n",
      "|     2701|                      1|\n",
      "|     9544|                      1|\n",
      "|     8865|                      1|\n",
      "|     1987|                      1|\n",
      "|     4685|                      1|\n",
      "|     5170|                      1|\n",
      "|     8975|                      1|\n",
      "|     4403|                      1|\n",
      "|     7101|                      1|\n",
      "|     5990|                      1|\n",
      "|     6280|                      1|\n",
      "|     5473|                      1|\n",
      "|     9071|                      1|\n",
      "|     8496|                      1|\n",
      "|     8328|                      1|\n",
      "+---------+-----------------------+\n",
      "only showing top 20 rows\n",
      "\n"
     ]
    }
   ],
   "source": [
    "# KPI 2: Number of Add to Cart Actions by Product\n",
    "add_to_cart_per_product = spark.sql(\"\"\"\n",
    "    SELECT productId, COUNT(*) AS add_to_cart_per_product\n",
    "    FROM stream.add_to_cart\n",
    "    GROUP BY productId\n",
    "    ORDER BY add_to_cart_per_product DESC\n",
    "\"\"\")\n",
    "add_to_cart_per_product.show()"
   ]
  },
  {
   "cell_type": "code",
   "execution_count": 7,
   "id": "ffa22bda-97f1-4913-bba6-4198d2c71d34",
   "metadata": {},
   "outputs": [
    {
     "name": "stdout",
     "output_type": "stream",
     "text": [
      "+----------+--------------------+\n",
      "|customerId|total_quantity_added|\n",
      "+----------+--------------------+\n",
      "|     77111|                   5|\n",
      "|     85819|                   5|\n",
      "|     15037|                   5|\n",
      "|     44634|                   5|\n",
      "|     43838|                   5|\n",
      "|     98110|                   5|\n",
      "|     19197|                   5|\n",
      "|     14824|                   5|\n",
      "|     44973|                   5|\n",
      "|     44550|                   5|\n",
      "|     24351|                   5|\n",
      "|     76533|                   5|\n",
      "|     97641|                   5|\n",
      "|     13170|                   5|\n",
      "|     97970|                   5|\n",
      "|     34399|                   5|\n",
      "|     78422|                   5|\n",
      "|     32888|                   5|\n",
      "|     25644|                   5|\n",
      "|     48624|                   5|\n",
      "+----------+--------------------+\n",
      "only showing top 20 rows\n",
      "\n"
     ]
    }
   ],
   "source": [
    "# KPI 3: Total Quantity Added to Cart by Customer\n",
    "total_quantity_added_by_customer = spark.sql(\"\"\"\n",
    "    SELECT customerId, SUM(quantity) AS total_quantity_added\n",
    "    FROM stream.add_to_cart\n",
    "    GROUP BY customerId\n",
    "    ORDER BY total_quantity_added DESC\n",
    "\"\"\")\n",
    "total_quantity_added_by_customer.show()"
   ]
  },
  {
   "cell_type": "code",
   "execution_count": 8,
   "id": "a43ec0e6-78ff-4c2e-bb6d-ebc17bfe22c1",
   "metadata": {},
   "outputs": [
    {
     "name": "stdout",
     "output_type": "stream",
     "text": [
      "+-----------------+\n",
      "|    total_revenue|\n",
      "+-----------------+\n",
      "|71998.27000000003|\n",
      "+-----------------+\n",
      "\n"
     ]
    }
   ],
   "source": [
    "# 3. Purchase Table (emp.purchase)\n",
    "\n",
    "# KPI 1: Total Revenue Generated\n",
    "total_revenue = spark.sql(\"\"\"\n",
    "    SELECT SUM(totalAmount ) AS total_revenue\n",
    "    FROM stream.purchase\n",
    "\"\"\")\n",
    "total_revenue.show()"
   ]
  },
  {
   "cell_type": "code",
   "execution_count": 9,
   "id": "5c8302e3-d090-475a-8b44-c0858a9c02c6",
   "metadata": {},
   "outputs": [
    {
     "name": "stdout",
     "output_type": "stream",
     "text": [
      "+-------------+--------------------+\n",
      "|paymentMethod|purchases_per_method|\n",
      "+-------------+--------------------+\n",
      "|  Credit Card|                 100|\n",
      "|   Debit Card|                  97|\n",
      "|       PayPal|                  91|\n",
      "+-------------+--------------------+\n",
      "\n"
     ]
    }
   ],
   "source": [
    "# KPI 2: Number of Purchases by Payment Method\n",
    "purchases_per_method = spark.sql(\"\"\"\n",
    "    SELECT paymentMethod, COUNT(*) AS purchases_per_method\n",
    "    FROM stream.purchase\n",
    "    GROUP BY paymentMethod\n",
    "    ORDER BY purchases_per_method DESC\n",
    "\"\"\")\n",
    "purchases_per_method.show()"
   ]
  },
  {
   "cell_type": "code",
   "execution_count": 10,
   "id": "0c65cf0c-49dc-45f8-8f84-c59d61d28029",
   "metadata": {},
   "outputs": [
    {
     "name": "stdout",
     "output_type": "stream",
     "text": [
      "+-------------------+\n",
      "|average_order_value|\n",
      "+-------------------+\n",
      "| 249.99399305555568|\n",
      "+-------------------+\n",
      "\n"
     ]
    }
   ],
   "source": [
    "# KPI 3: Average Order Value\n",
    "average_order_value = spark.sql(\"\"\"\n",
    "    SELECT AVG(totalAmount) AS average_order_value\n",
    "    FROM stream.purchase\n",
    "\"\"\")\n",
    "average_order_value.show()"
   ]
  },
  {
   "cell_type": "code",
   "execution_count": 11,
   "id": "01bac571-73d7-47e0-90f4-e77972f87282",
   "metadata": {},
   "outputs": [
    {
     "name": "stdout",
     "output_type": "stream",
     "text": [
      "+---------------------------+\n",
      "|total_recommendation_clicks|\n",
      "+---------------------------+\n",
      "|                        312|\n",
      "+---------------------------+\n",
      "\n"
     ]
    }
   ],
   "source": [
    "# 4. Recommendation Click Table (emp.recommendation_click)\n",
    "\n",
    "# KPI 1: Total Number of Recommendation Clicks\n",
    "total_recommendation_clicks = spark.sql(\"\"\"\n",
    "    SELECT COUNT(*) AS total_recommendation_clicks\n",
    "    FROM stream.recommendation_click\n",
    "\"\"\")\n",
    "total_recommendation_clicks.show()"
   ]
  },
  {
   "cell_type": "code",
   "execution_count": 12,
   "id": "73c89da2-f032-45a2-8c0f-c58671ce73c8",
   "metadata": {},
   "outputs": [
    {
     "name": "stdout",
     "output_type": "stream",
     "text": [
      "+--------------------+--------------------+\n",
      "|           algorithm|clicks_per_algorithm|\n",
      "+--------------------+--------------------+\n",
      "|       content_based|                 158|\n",
      "|collaborative_fil...|                 154|\n",
      "+--------------------+--------------------+\n",
      "\n"
     ]
    }
   ],
   "source": [
    "# KPI 2: Number of Clicks by Recommendation Algorithm\n",
    "clicks_per_algorithm = spark.sql(\"\"\"\n",
    "    SELECT algorithm, COUNT(*) AS clicks_per_algorithm\n",
    "    FROM stream.recommendation_click\n",
    "    GROUP BY algorithm\n",
    "    ORDER BY clicks_per_algorithm DESC\n",
    "\"\"\")\n",
    "clicks_per_algorithm.show()"
   ]
  },
  {
   "cell_type": "code",
   "execution_count": 13,
   "id": "6b892336-23a8-46d4-be6d-5416aaf33a9b",
   "metadata": {},
   "outputs": [
    {
     "name": "stdout",
     "output_type": "stream",
     "text": [
      "+-------------------------+\n",
      "|unique_customers_clicking|\n",
      "+-------------------------+\n",
      "|                      310|\n",
      "+-------------------------+\n",
      "\n"
     ]
    }
   ],
   "source": [
    "# KPI 3: Unique Customers Clicking on Recommendations\n",
    "unique_customers_clicking = spark.sql(\"\"\"\n",
    "    SELECT COUNT(DISTINCT customerId) AS unique_customers_clicking\n",
    "    FROM stream.recommendation_click\n",
    "\"\"\")\n",
    "unique_customers_clicking.show()\n"
   ]
  },
  {
   "cell_type": "code",
   "execution_count": 14,
   "id": "b7fa2684-8ef5-44a7-8d08-9596bd0cda57",
   "metadata": {},
   "outputs": [],
   "source": [
    "spark.stop()"
   ]
  },
  {
   "cell_type": "code",
   "execution_count": null,
   "id": "cd31106d-3ae1-4aa0-a011-484baa0f9371",
   "metadata": {},
   "outputs": [],
   "source": []
  }
 ],
 "metadata": {
  "kernelspec": {
   "display_name": "Pyspark 2",
   "language": "python",
   "name": "pyspark2"
  },
  "language_info": {
   "codemirror_mode": {
    "name": "ipython",
    "version": 3
   },
   "file_extension": ".py",
   "mimetype": "text/x-python",
   "name": "python",
   "nbconvert_exporter": "python",
   "pygments_lexer": "ipython3",
   "version": "3.6.9"
  }
 },
 "nbformat": 4,
 "nbformat_minor": 5
}
