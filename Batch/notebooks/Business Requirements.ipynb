{
 "cells": [
  {
   "cell_type": "code",
   "execution_count": 1,
   "id": "3a03c3bb-275b-45ee-b3d5-482ec2d408cc",
   "metadata": {},
   "outputs": [],
   "source": [
    "from pyspark.sql import SparkSession\n",
    "from pyspark.sql.functions import col, date_format, dayofmonth, month, year, quarter, substring_index, split, when, concat_ws, lit,round\n",
    "from pyspark.sql.types import DateType\n",
    "from datetime import datetime, timedelta\n",
    "import os"
   ]
  },
  {
   "cell_type": "code",
   "execution_count": 2,
   "id": "a54a9a46-aba1-42c7-9e09-bd412ac4a9fd",
   "metadata": {},
   "outputs": [],
   "source": [
    "spark = SparkSession\\\n",
    "    .builder\\\n",
    "    .master(\"local[4]\")\\\n",
    "    .appName(\"business_requirement\")\\\n",
    "    .config(\"spark.eventLog.logBlockUpdates.enabled\", True)\\\n",
    "    .enableHiveSupport() \\\n",
    "    .getOrCreate()\n",
    "\n",
    "sc = spark.sparkContext"
   ]
  },
  {
   "cell_type": "code",
   "execution_count": 4,
   "id": "84a0facb-e135-46df-a6cb-39506d80c85c",
   "metadata": {},
   "outputs": [
    {
     "data": {
      "text/html": [
       "<table border='1'>\n",
       "<tr><th>product_name</th><th>total_units_sold</th></tr>\n",
       "<tr><td>Boots</td><td>1144</td></tr>\n",
       "<tr><td>Sandals</td><td>1040</td></tr>\n",
       "<tr><td>Washing Machine</td><td>661</td></tr>\n",
       "<tr><td>Coffee Maker</td><td>637</td></tr>\n",
       "<tr><td>Blouse</td><td>628</td></tr>\n",
       "<tr><td>Blender</td><td>616</td></tr>\n",
       "<tr><td>Toaster</td><td>601</td></tr>\n",
       "<tr><td>Jeans</td><td>592</td></tr>\n",
       "<tr><td>Headphones</td><td>586</td></tr>\n",
       "<tr><td>Hair Straightener</td><td>579</td></tr>\n",
       "</table>\n"
      ],
      "text/plain": [
       "+-----------------+----------------+\n",
       "|     product_name|total_units_sold|\n",
       "+-----------------+----------------+\n",
       "|            Boots|            1144|\n",
       "|          Sandals|            1040|\n",
       "|  Washing Machine|             661|\n",
       "|     Coffee Maker|             637|\n",
       "|           Blouse|             628|\n",
       "|          Blender|             616|\n",
       "|          Toaster|             601|\n",
       "|            Jeans|             592|\n",
       "|       Headphones|             586|\n",
       "|Hair Straightener|             579|\n",
       "+-----------------+----------------+"
      ]
     },
     "execution_count": 4,
     "metadata": {},
     "output_type": "execute_result"
    }
   ],
   "source": [
    "#Get the most selling products\n",
    "\n",
    "most_selling_product = spark.sql(\"\"\"\n",
    "SELECT\n",
    "    p.product_name,\n",
    "    SUM(sf.units) AS total_units_sold\n",
    "FROM\n",
    "    retail.sales_transactions_Fact sf\n",
    "JOIN\n",
    "    retail.product_dim p ON sf.product_id = p.product_id\n",
    "GROUP BY\n",
    "    p.product_name\n",
    "ORDER BY\n",
    "    total_units_sold DESC\n",
    "LIMIT 10\n",
    "\"\"\")\n",
    "\n",
    "most_selling_product"
   ]
  },
  {
   "cell_type": "code",
   "execution_count": 14,
   "id": "ffb8da09-d434-4d43-98f9-1a2ab9ad17ff",
   "metadata": {},
   "outputs": [
    {
     "data": {
      "text/html": [
       "<table border='1'>\n",
       "<tr><th>offer_name</th><th>total_redeemed_offer</th></tr>\n",
       "<tr><td>offer_4</td><td>656</td></tr>\n",
       "<tr><td>offer_3</td><td>638</td></tr>\n",
       "<tr><td>offer_2</td><td>581</td></tr>\n",
       "<tr><td>offer_1</td><td>577</td></tr>\n",
       "<tr><td>offer_5</td><td>560</td></tr>\n",
       "</table>\n"
      ],
      "text/plain": [
       "+----------+--------------------+\n",
       "|offer_name|total_redeemed_offer|\n",
       "+----------+--------------------+\n",
       "|   offer_4|                 656|\n",
       "|   offer_3|                 638|\n",
       "|   offer_2|                 581|\n",
       "|   offer_1|                 577|\n",
       "|   offer_5|                 560|\n",
       "+----------+--------------------+"
      ]
     },
     "execution_count": 14,
     "metadata": {},
     "output_type": "execute_result"
    }
   ],
   "source": [
    "#Get the most redeemed offers from customers\n",
    "\n",
    "most_redeemed_offer_c = spark.sql(\"\"\"\n",
    "SELECT\n",
    "    o.offer_name,\n",
    "    count(sf.offer_id) AS total_redeemed_offer\n",
    "FROM\n",
    "    retail.sales_transactions_Fact sf\n",
    "JOIN\n",
    "    retail.offer_Dim o ON sf.offer_id = o.offer_id\n",
    "GROUP BY\n",
    "    o.offer_name\n",
    "ORDER BY\n",
    "    total_redeemed_offer DESC\n",
    "LIMIT 5\n",
    "\"\"\")\n",
    "\n",
    "most_redeemed_offer_c"
   ]
  },
  {
   "cell_type": "code",
   "execution_count": 15,
   "id": "cc034c0e-44d6-4f1c-aab9-e3f5a796fe2a",
   "metadata": {},
   "outputs": [
    {
     "data": {
      "text/html": [
       "<table border='1'>\n",
       "<tr><th>product_name</th><th>total_redeemed_offer</th></tr>\n",
       "<tr><td>Sandals</td><td>192</td></tr>\n",
       "<tr><td>Boots</td><td>185</td></tr>\n",
       "<tr><td>Hair Straightener</td><td>123</td></tr>\n",
       "<tr><td>Smartphone</td><td>121</td></tr>\n",
       "<tr><td>Coffee Maker</td><td>121</td></tr>\n",
       "</table>\n"
      ],
      "text/plain": [
       "+-----------------+--------------------+\n",
       "|     product_name|total_redeemed_offer|\n",
       "+-----------------+--------------------+\n",
       "|          Sandals|                 192|\n",
       "|            Boots|                 185|\n",
       "|Hair Straightener|                 123|\n",
       "|       Smartphone|                 121|\n",
       "|     Coffee Maker|                 121|\n",
       "+-----------------+--------------------+"
      ]
     },
     "execution_count": 15,
     "metadata": {},
     "output_type": "execute_result"
    }
   ],
   "source": [
    "#Get the most redeemed offers by products\n",
    "\n",
    "most_redeemed_offer_p = spark.sql(\"\"\"\n",
    "SELECT\n",
    "    p.product_name,\n",
    "    count(sf.offer_id) AS total_redeemed_offer\n",
    "FROM\n",
    "    retail.sales_transactions_Fact sf\n",
    "JOIN\n",
    "    retail.product_dim p ON sf.product_id = p.product_id\n",
    "GROUP BY\n",
    "    p.product_name\n",
    "ORDER BY\n",
    "    total_redeemed_offer DESC\n",
    "LIMIT 5\n",
    "\"\"\")\n",
    "\n",
    "most_redeemed_offer_p"
   ]
  },
  {
   "cell_type": "code",
   "execution_count": 5,
   "id": "c0db4ca1-ffc4-4667-b206-f10ad7e60ab4",
   "metadata": {},
   "outputs": [
    {
     "data": {
      "text/html": [
       "<table border='1'>\n",
       "<tr><th>city</th><th>total_online_sales</th></tr>\n",
       "<tr><td>Fall River</td><td>29.99</td></tr>\n",
       "<tr><td>Grass Valley</td><td>29.99</td></tr>\n",
       "<tr><td>Falmouth</td><td>37.981</td></tr>\n",
       "<tr><td>Revere</td><td>39.99</td></tr>\n",
       "<tr><td>Redlands</td><td>47.984</td></tr>\n",
       "<tr><td>Marlborough</td><td>49.99</td></tr>\n",
       "<tr><td>Fortuna</td><td>50.983</td></tr>\n",
       "<tr><td>Dublin</td><td>53.982</td></tr>\n",
       "<tr><td>Freetown</td><td>79.96</td></tr>\n",
       "<tr><td>Saugus</td><td>79.98</td></tr>\n",
       "</table>\n"
      ],
      "text/plain": [
       "+------------+------------------+\n",
       "|        city|total_online_sales|\n",
       "+------------+------------------+\n",
       "|  Fall River|             29.99|\n",
       "|Grass Valley|             29.99|\n",
       "|    Falmouth|            37.981|\n",
       "|      Revere|             39.99|\n",
       "|    Redlands|            47.984|\n",
       "| Marlborough|             49.99|\n",
       "|     Fortuna|            50.983|\n",
       "|      Dublin|            53.982|\n",
       "|    Freetown|             79.96|\n",
       "|      Saugus|             79.98|\n",
       "+------------+------------------+"
      ]
     },
     "execution_count": 5,
     "metadata": {},
     "output_type": "execute_result"
    }
   ],
   "source": [
    "#Get the most loweset cities in online sales\n",
    "\n",
    "lowest_cities = spark.sql(\"\"\"\n",
    "\n",
    "SELECT\n",
    "    city,\n",
    "    SUM(total_price) AS total_online_sales\n",
    "FROM\n",
    "    retail.sales_transactions_Fact sf\n",
    "JOIN\n",
    "    retail.location_Dim c ON sf.location_id = c.location_id\n",
    "WHERE\n",
    "    sf.payment_id like 'yes%' \n",
    "GROUP BY\n",
    "    city\n",
    "ORDER BY\n",
    "    total_online_sales ASC\n",
    "limit 10\n",
    "\n",
    "\"\"\")\n",
    "\n",
    "lowest_cities"
   ]
  },
  {
   "cell_type": "code",
   "execution_count": 6,
   "id": "e95d2da2-f693-4727-ad62-2b93d587085b",
   "metadata": {},
   "outputs": [],
   "source": [
    "# Stop the Spark session\n",
    "spark.stop()"
   ]
  },
  {
   "cell_type": "code",
   "execution_count": null,
   "id": "10951c39-6e13-470f-b433-7198dd9bd8d4",
   "metadata": {},
   "outputs": [],
   "source": []
  }
 ],
 "metadata": {
  "kernelspec": {
   "display_name": "Pyspark 2",
   "language": "python",
   "name": "pyspark2"
  },
  "language_info": {
   "codemirror_mode": {
    "name": "ipython",
    "version": 3
   },
   "file_extension": ".py",
   "mimetype": "text/x-python",
   "name": "python",
   "nbconvert_exporter": "python",
   "pygments_lexer": "ipython3",
   "version": "3.6.9"
  }
 },
 "nbformat": 4,
 "nbformat_minor": 5
}
